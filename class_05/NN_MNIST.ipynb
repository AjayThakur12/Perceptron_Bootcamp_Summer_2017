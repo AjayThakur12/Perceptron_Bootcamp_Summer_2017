{
 "cells": [
  {
   "cell_type": "code",
   "execution_count": 1,
   "metadata": {
    "collapsed": false
   },
   "outputs": [
    {
     "name": "stderr",
     "output_type": "stream",
     "text": [
      "Using TensorFlow backend.\n"
     ]
    }
   ],
   "source": [
    "import numpy as np\n",
    "from matplotlib import pyplot as plt\n",
    "%matplotlib inline\n",
    "import pandas as pd\n",
    "import keras\n",
    "\n",
    "from keras.layers import Dense, Activation\n",
    "from keras.models import Sequential\n",
    "from keras.utils import np_utils\n",
    "from keras import regularizers"
   ]
  },
  {
   "cell_type": "code",
   "execution_count": 2,
   "metadata": {
    "collapsed": false
   },
   "outputs": [
    {
     "name": "stdout",
     "output_type": "stream",
     "text": [
      "(5000, 785)\n"
     ]
    }
   ],
   "source": [
    "ds = pd.read_csv('../train.csv')\n",
    "data = ds.values[:5000]\n",
    "\n",
    "print data.shape"
   ]
  },
  {
   "cell_type": "code",
   "execution_count": 3,
   "metadata": {
    "collapsed": false
   },
   "outputs": [
    {
     "name": "stdout",
     "output_type": "stream",
     "text": [
      "(5000, 784) (5000, 10)\n"
     ]
    }
   ],
   "source": [
    "X = data[:, 1:]/255.0\n",
    "y = np_utils.to_categorical(data[:, 0])\n",
    "\n",
    "print X.shape, y.shape"
   ]
  },
  {
   "cell_type": "code",
   "execution_count": 4,
   "metadata": {
    "collapsed": false
   },
   "outputs": [
    {
     "name": "stdout",
     "output_type": "stream",
     "text": [
      "(4000, 784) (1000, 784)\n",
      "(4000, 10) (1000, 10)\n"
     ]
    }
   ],
   "source": [
    "split = int(0.8 * X.shape[0])\n",
    "\n",
    "X_train = X[:split]\n",
    "X_test = X[split:]\n",
    "\n",
    "y_train = y[:split]\n",
    "y_test = y[split:]\n",
    "\n",
    "print X_train.shape, X_test.shape\n",
    "print y_train.shape, y_test.shape"
   ]
  },
  {
   "cell_type": "code",
   "execution_count": 9,
   "metadata": {
    "collapsed": false
   },
   "outputs": [
    {
     "name": "stdout",
     "output_type": "stream",
     "text": [
      "_________________________________________________________________\n",
      "Layer (type)                 Output Shape              Param #   \n",
      "=================================================================\n",
      "dense_7 (Dense)              (None, 348)               273180    \n",
      "_________________________________________________________________\n",
      "activation_7 (Activation)    (None, 348)               0         \n",
      "_________________________________________________________________\n",
      "dense_8 (Dense)              (None, 148)               51652     \n",
      "_________________________________________________________________\n",
      "activation_8 (Activation)    (None, 148)               0         \n",
      "_________________________________________________________________\n",
      "dense_9 (Dense)              (None, 10)                1490      \n",
      "_________________________________________________________________\n",
      "activation_9 (Activation)    (None, 10)                0         \n",
      "=================================================================\n",
      "Total params: 326,322.0\n",
      "Trainable params: 326,322.0\n",
      "Non-trainable params: 0.0\n",
      "_________________________________________________________________\n"
     ]
    }
   ],
   "source": [
    "model = Sequential()\n",
    "act = 'sigmoid'\n",
    "\n",
    "model.add(Dense(348, input_shape=(784,)))\n",
    "model.add(Activation(act))\n",
    "\n",
    "model.add(Dense(148))\n",
    "model.add(Activation(act))\n",
    "\n",
    "model.add(Dense(10))\n",
    "model.add(Activation('softmax'))\n",
    "\n",
    "model.compile(loss='categorical_crossentropy', optimizer='adam', metrics=['accuracy'])\n",
    "model.summary()"
   ]
  },
  {
   "cell_type": "code",
   "execution_count": 10,
   "metadata": {
    "collapsed": false,
    "scrolled": false
   },
   "outputs": [
    {
     "name": "stdout",
     "output_type": "stream",
     "text": [
      "Train on 4000 samples, validate on 1000 samples\n",
      "Epoch 1/100\n",
      "0s - loss: 1.9943 - acc: 0.4202 - val_loss: 1.4916 - val_acc: 0.6850\n",
      "Epoch 2/100\n",
      "0s - loss: 1.1010 - acc: 0.7802 - val_loss: 0.8207 - val_acc: 0.8230\n",
      "Epoch 3/100\n",
      "0s - loss: 0.6709 - acc: 0.8550 - val_loss: 0.5787 - val_acc: 0.8720\n",
      "Epoch 4/100\n",
      "0s - loss: 0.4989 - acc: 0.8883 - val_loss: 0.4670 - val_acc: 0.8830\n",
      "Epoch 5/100\n",
      "0s - loss: 0.4027 - acc: 0.9015 - val_loss: 0.4071 - val_acc: 0.8890\n",
      "Epoch 6/100\n",
      "0s - loss: 0.3479 - acc: 0.9123 - val_loss: 0.3713 - val_acc: 0.8960\n",
      "Epoch 7/100\n",
      "0s - loss: 0.3103 - acc: 0.9170 - val_loss: 0.3356 - val_acc: 0.9030\n",
      "Epoch 8/100\n",
      "0s - loss: 0.2780 - acc: 0.9285 - val_loss: 0.3168 - val_acc: 0.9010\n",
      "Epoch 9/100\n",
      "0s - loss: 0.2559 - acc: 0.9318 - val_loss: 0.3212 - val_acc: 0.8950\n",
      "Epoch 10/100\n",
      "0s - loss: 0.2346 - acc: 0.9365 - val_loss: 0.2921 - val_acc: 0.9110\n",
      "Epoch 11/100\n",
      "0s - loss: 0.2164 - acc: 0.9408 - val_loss: 0.2886 - val_acc: 0.9070\n",
      "Epoch 12/100\n",
      "0s - loss: 0.1985 - acc: 0.9488 - val_loss: 0.2751 - val_acc: 0.9130\n",
      "Epoch 13/100\n",
      "0s - loss: 0.1842 - acc: 0.9538 - val_loss: 0.2647 - val_acc: 0.9240\n",
      "Epoch 14/100\n",
      "0s - loss: 0.1701 - acc: 0.9585 - val_loss: 0.2623 - val_acc: 0.9130\n",
      "Epoch 15/100\n",
      "0s - loss: 0.1583 - acc: 0.9593 - val_loss: 0.2543 - val_acc: 0.9180\n",
      "Epoch 16/100\n",
      "0s - loss: 0.1444 - acc: 0.9680 - val_loss: 0.2516 - val_acc: 0.9170\n",
      "Epoch 17/100\n",
      "0s - loss: 0.1356 - acc: 0.9682 - val_loss: 0.2525 - val_acc: 0.9240\n",
      "Epoch 18/100\n",
      "0s - loss: 0.1282 - acc: 0.9712 - val_loss: 0.2429 - val_acc: 0.9240\n",
      "Epoch 19/100\n",
      "0s - loss: 0.1185 - acc: 0.9727 - val_loss: 0.2532 - val_acc: 0.9190\n",
      "Epoch 20/100\n",
      "0s - loss: 0.1109 - acc: 0.9760 - val_loss: 0.2402 - val_acc: 0.9240\n",
      "Epoch 21/100\n",
      "0s - loss: 0.1023 - acc: 0.9802 - val_loss: 0.2331 - val_acc: 0.9240\n",
      "Epoch 22/100\n",
      "0s - loss: 0.0911 - acc: 0.9847 - val_loss: 0.2376 - val_acc: 0.9220\n",
      "Epoch 23/100\n",
      "0s - loss: 0.0872 - acc: 0.9850 - val_loss: 0.2316 - val_acc: 0.9250\n",
      "Epoch 24/100\n",
      "0s - loss: 0.0802 - acc: 0.9862 - val_loss: 0.2297 - val_acc: 0.9270\n",
      "Epoch 25/100\n",
      "0s - loss: 0.0745 - acc: 0.9867 - val_loss: 0.2368 - val_acc: 0.9230\n",
      "Epoch 26/100\n",
      "0s - loss: 0.0682 - acc: 0.9892 - val_loss: 0.2253 - val_acc: 0.9290\n",
      "Epoch 27/100\n",
      "0s - loss: 0.0623 - acc: 0.9905 - val_loss: 0.2264 - val_acc: 0.9260\n",
      "Epoch 28/100\n",
      "0s - loss: 0.0572 - acc: 0.9922 - val_loss: 0.2281 - val_acc: 0.9260\n",
      "Epoch 29/100\n",
      "0s - loss: 0.0549 - acc: 0.9922 - val_loss: 0.2277 - val_acc: 0.9260\n",
      "Epoch 30/100\n",
      "0s - loss: 0.0507 - acc: 0.9930 - val_loss: 0.2271 - val_acc: 0.9250\n",
      "Epoch 31/100\n",
      "0s - loss: 0.0457 - acc: 0.9947 - val_loss: 0.2274 - val_acc: 0.9310\n",
      "Epoch 32/100\n",
      "0s - loss: 0.0416 - acc: 0.9947 - val_loss: 0.2218 - val_acc: 0.9300\n",
      "Epoch 33/100\n",
      "0s - loss: 0.0375 - acc: 0.9962 - val_loss: 0.2229 - val_acc: 0.9290\n",
      "Epoch 34/100\n",
      "0s - loss: 0.0347 - acc: 0.9960 - val_loss: 0.2220 - val_acc: 0.9300\n",
      "Epoch 35/100\n",
      "0s - loss: 0.0318 - acc: 0.9972 - val_loss: 0.2219 - val_acc: 0.9290\n",
      "Epoch 36/100\n",
      "0s - loss: 0.0292 - acc: 0.9972 - val_loss: 0.2221 - val_acc: 0.9290\n",
      "Epoch 37/100\n",
      "0s - loss: 0.0269 - acc: 0.9977 - val_loss: 0.2235 - val_acc: 0.9310\n",
      "Epoch 38/100\n",
      "0s - loss: 0.0254 - acc: 0.9977 - val_loss: 0.2235 - val_acc: 0.9290\n",
      "Epoch 39/100\n",
      "0s - loss: 0.0229 - acc: 0.9982 - val_loss: 0.2224 - val_acc: 0.9340\n",
      "Epoch 40/100\n",
      "0s - loss: 0.0210 - acc: 0.9987 - val_loss: 0.2228 - val_acc: 0.9340\n",
      "Epoch 41/100\n",
      "0s - loss: 0.0197 - acc: 0.9990 - val_loss: 0.2204 - val_acc: 0.9360\n",
      "Epoch 42/100\n",
      "0s - loss: 0.0182 - acc: 0.9992 - val_loss: 0.2222 - val_acc: 0.9360\n",
      "Epoch 43/100\n",
      "0s - loss: 0.0169 - acc: 0.9990 - val_loss: 0.2257 - val_acc: 0.9320\n",
      "Epoch 44/100\n",
      "0s - loss: 0.0153 - acc: 0.9992 - val_loss: 0.2255 - val_acc: 0.9330\n",
      "Epoch 45/100\n",
      "0s - loss: 0.0143 - acc: 0.9992 - val_loss: 0.2216 - val_acc: 0.9360\n",
      "Epoch 46/100\n",
      "0s - loss: 0.0137 - acc: 0.9992 - val_loss: 0.2223 - val_acc: 0.9360\n",
      "Epoch 47/100\n",
      "0s - loss: 0.0125 - acc: 0.9997 - val_loss: 0.2267 - val_acc: 0.9370\n",
      "Epoch 48/100\n",
      "0s - loss: 0.0115 - acc: 0.9997 - val_loss: 0.2286 - val_acc: 0.9340\n",
      "Epoch 49/100\n",
      "0s - loss: 0.0109 - acc: 0.9997 - val_loss: 0.2267 - val_acc: 0.9370\n",
      "Epoch 50/100\n",
      "0s - loss: 0.0101 - acc: 0.9997 - val_loss: 0.2291 - val_acc: 0.9320\n",
      "Epoch 51/100\n",
      "0s - loss: 0.0094 - acc: 0.9997 - val_loss: 0.2271 - val_acc: 0.9350\n",
      "Epoch 52/100\n",
      "0s - loss: 0.0088 - acc: 0.9997 - val_loss: 0.2257 - val_acc: 0.9380\n",
      "Epoch 53/100\n",
      "0s - loss: 0.0083 - acc: 0.9997 - val_loss: 0.2293 - val_acc: 0.9350\n",
      "Epoch 54/100\n",
      "0s - loss: 0.0077 - acc: 0.9997 - val_loss: 0.2282 - val_acc: 0.9370\n",
      "Epoch 55/100\n",
      "0s - loss: 0.0073 - acc: 1.0000 - val_loss: 0.2265 - val_acc: 0.9370\n",
      "Epoch 56/100\n",
      "0s - loss: 0.0068 - acc: 1.0000 - val_loss: 0.2270 - val_acc: 0.9390\n",
      "Epoch 57/100\n",
      "0s - loss: 0.0064 - acc: 1.0000 - val_loss: 0.2288 - val_acc: 0.9370\n",
      "Epoch 58/100\n",
      "0s - loss: 0.0060 - acc: 1.0000 - val_loss: 0.2288 - val_acc: 0.9380\n",
      "Epoch 59/100\n",
      "0s - loss: 0.0057 - acc: 1.0000 - val_loss: 0.2319 - val_acc: 0.9360\n",
      "Epoch 60/100\n",
      "0s - loss: 0.0055 - acc: 1.0000 - val_loss: 0.2308 - val_acc: 0.9370\n",
      "Epoch 61/100\n",
      "0s - loss: 0.0051 - acc: 1.0000 - val_loss: 0.2305 - val_acc: 0.9360\n",
      "Epoch 62/100\n",
      "0s - loss: 0.0048 - acc: 1.0000 - val_loss: 0.2317 - val_acc: 0.9370\n",
      "Epoch 63/100\n",
      "0s - loss: 0.0046 - acc: 1.0000 - val_loss: 0.2332 - val_acc: 0.9380\n",
      "Epoch 64/100\n",
      "0s - loss: 0.0044 - acc: 1.0000 - val_loss: 0.2345 - val_acc: 0.9370\n",
      "Epoch 65/100\n",
      "0s - loss: 0.0042 - acc: 1.0000 - val_loss: 0.2330 - val_acc: 0.9370\n",
      "Epoch 66/100\n",
      "0s - loss: 0.0040 - acc: 1.0000 - val_loss: 0.2349 - val_acc: 0.9380\n",
      "Epoch 67/100\n",
      "0s - loss: 0.0038 - acc: 1.0000 - val_loss: 0.2332 - val_acc: 0.9370\n",
      "Epoch 68/100\n",
      "0s - loss: 0.0036 - acc: 1.0000 - val_loss: 0.2346 - val_acc: 0.9380\n",
      "Epoch 69/100\n",
      "0s - loss: 0.0034 - acc: 1.0000 - val_loss: 0.2344 - val_acc: 0.9370\n",
      "Epoch 70/100\n",
      "0s - loss: 0.0033 - acc: 1.0000 - val_loss: 0.2358 - val_acc: 0.9370\n",
      "Epoch 71/100\n",
      "0s - loss: 0.0031 - acc: 1.0000 - val_loss: 0.2351 - val_acc: 0.9370\n",
      "Epoch 72/100\n",
      "0s - loss: 0.0030 - acc: 1.0000 - val_loss: 0.2355 - val_acc: 0.9380\n",
      "Epoch 73/100\n",
      "0s - loss: 0.0029 - acc: 1.0000 - val_loss: 0.2356 - val_acc: 0.9370\n",
      "Epoch 74/100\n",
      "0s - loss: 0.0027 - acc: 1.0000 - val_loss: 0.2364 - val_acc: 0.9370\n",
      "Epoch 75/100\n",
      "0s - loss: 0.0026 - acc: 1.0000 - val_loss: 0.2370 - val_acc: 0.9380\n",
      "Epoch 76/100\n",
      "0s - loss: 0.0025 - acc: 1.0000 - val_loss: 0.2365 - val_acc: 0.9380\n",
      "Epoch 77/100\n",
      "0s - loss: 0.0024 - acc: 1.0000 - val_loss: 0.2374 - val_acc: 0.9370\n",
      "Epoch 78/100\n",
      "0s - loss: 0.0023 - acc: 1.0000 - val_loss: 0.2377 - val_acc: 0.9370\n",
      "Epoch 79/100\n",
      "0s - loss: 0.0023 - acc: 1.0000 - val_loss: 0.2387 - val_acc: 0.9360\n",
      "Epoch 80/100\n",
      "0s - loss: 0.0021 - acc: 1.0000 - val_loss: 0.2395 - val_acc: 0.9380\n",
      "Epoch 81/100\n",
      "0s - loss: 0.0021 - acc: 1.0000 - val_loss: 0.2387 - val_acc: 0.9380\n",
      "Epoch 82/100\n",
      "0s - loss: 0.0020 - acc: 1.0000 - val_loss: 0.2403 - val_acc: 0.9370\n",
      "Epoch 83/100\n",
      "0s - loss: 0.0019 - acc: 1.0000 - val_loss: 0.2381 - val_acc: 0.9370\n",
      "Epoch 84/100\n",
      "0s - loss: 0.0018 - acc: 1.0000 - val_loss: 0.2416 - val_acc: 0.9370\n",
      "Epoch 85/100\n",
      "0s - loss: 0.0018 - acc: 1.0000 - val_loss: 0.2410 - val_acc: 0.9370\n",
      "Epoch 86/100\n",
      "0s - loss: 0.0017 - acc: 1.0000 - val_loss: 0.2417 - val_acc: 0.9370\n",
      "Epoch 87/100\n",
      "0s - loss: 0.0016 - acc: 1.0000 - val_loss: 0.2407 - val_acc: 0.9370\n",
      "Epoch 88/100\n",
      "0s - loss: 0.0016 - acc: 1.0000 - val_loss: 0.2424 - val_acc: 0.9370\n",
      "Epoch 89/100\n",
      "0s - loss: 0.0015 - acc: 1.0000 - val_loss: 0.2440 - val_acc: 0.9370\n",
      "Epoch 90/100\n",
      "0s - loss: 0.0015 - acc: 1.0000 - val_loss: 0.2421 - val_acc: 0.9380\n",
      "Epoch 91/100\n",
      "0s - loss: 0.0014 - acc: 1.0000 - val_loss: 0.2433 - val_acc: 0.9370\n",
      "Epoch 92/100\n",
      "0s - loss: 0.0014 - acc: 1.0000 - val_loss: 0.2441 - val_acc: 0.9370\n",
      "Epoch 93/100\n",
      "0s - loss: 0.0013 - acc: 1.0000 - val_loss: 0.2439 - val_acc: 0.9370\n",
      "Epoch 94/100\n",
      "0s - loss: 0.0013 - acc: 1.0000 - val_loss: 0.2440 - val_acc: 0.9370\n",
      "Epoch 95/100\n",
      "0s - loss: 0.0012 - acc: 1.0000 - val_loss: 0.2436 - val_acc: 0.9380\n",
      "Epoch 96/100\n",
      "0s - loss: 0.0012 - acc: 1.0000 - val_loss: 0.2458 - val_acc: 0.9370\n",
      "Epoch 97/100\n",
      "0s - loss: 0.0012 - acc: 1.0000 - val_loss: 0.2450 - val_acc: 0.9370\n",
      "Epoch 98/100\n",
      "0s - loss: 0.0011 - acc: 1.0000 - val_loss: 0.2467 - val_acc: 0.9370\n",
      "Epoch 99/100\n",
      "0s - loss: 0.0011 - acc: 1.0000 - val_loss: 0.2465 - val_acc: 0.9380\n",
      "Epoch 100/100\n",
      "0s - loss: 0.0010 - acc: 1.0000 - val_loss: 0.2480 - val_acc: 0.9370\n"
     ]
    }
   ],
   "source": [
    "hist = model.fit(X_train, y_train,\n",
    "                epochs=50,\n",
    "                shuffle=True,\n",
    "                batch_size=100,\n",
    "                validation_data=(X_test, y_test), verbose=2)"
   ]
  },
  {
   "cell_type": "code",
   "execution_count": 7,
   "metadata": {
    "collapsed": false
   },
   "outputs": [
    {
     "data": {
      "image/png": "[encoded data removed]",
      "text/plain": [
       "<matplotlib.figure.Figure at 0x7f23002cbc50>"
      ]
     },
     "metadata": {},
     "output_type": "display_data"
    },
    {
     "data": {
      "image/png": "[encoded data removed]",
      "text/plain": [
       "<matplotlib.figure.Figure at 0x7f2300182650>"
      ]
     },
     "metadata": {},
     "output_type": "display_data"
    }
   ],
   "source": [
    "h_data = hist.history\n",
    "\n",
    "plt.figure(0)\n",
    "plt.title('Losses')\n",
    "plt.plot(h_data['loss'], 'green')\n",
    "plt.plot(h_data['val_loss'], 'red')\n",
    "\n",
    "plt.figure(1)\n",
    "plt.title('Accuracies')\n",
    "plt.plot(h_data['acc'], 'green')\n",
    "plt.plot(h_data['val_acc'], 'red')\n",
    "\n",
    "plt.show()"
   ]
  },
  {
   "cell_type": "code",
   "execution_count": null,
   "metadata": {
    "collapsed": true
   },
   "outputs": [],
   "source": []
  }
 ],
 "metadata": {
  "kernelspec": {
   "display_name": "Python 2",
   "language": "python",
   "name": "python2"
  },
  "language_info": {
   "codemirror_mode": {
    "name": "ipython",
    "version": 2
   },
   "file_extension": ".py",
   "mimetype": "text/x-python",
   "name": "python",
   "nbconvert_exporter": "python",
   "pygments_lexer": "ipython2",
   "version": "2.7.12"
  }
 },
 "nbformat": 4,
 "nbformat_minor": 2
}
