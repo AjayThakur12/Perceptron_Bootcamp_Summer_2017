{
 "cells": [
  {
   "cell_type": "code",
   "execution_count": 30,
   "metadata": {
    "collapsed": false
   },
   "outputs": [],
   "source": [
    "import numpy as np\n",
    "from matplotlib import pyplot as plt\n",
    "%matplotlib inline\n",
    "import pandas as pd\n",
    "import keras\n",
    "\n",
    "from keras.layers import Dense, Activation, Dropout\n",
    "from keras.models import Sequential\n",
    "from keras.utils import np_utils\n",
    "from keras import regularizers"
   ]
  },
  {
   "cell_type": "code",
   "execution_count": 2,
   "metadata": {
    "collapsed": false
   },
   "outputs": [
    {
     "name": "stdout",
     "output_type": "stream",
     "text": [
      "(5000, 785)\n"
     ]
    }
   ],
   "source": [
    "ds = pd.read_csv('../train.csv')\n",
    "data = ds.values[:5000]\n",
    "\n",
    "print data.shape"
   ]
  },
  {
   "cell_type": "code",
   "execution_count": 3,
   "metadata": {
    "collapsed": false
   },
   "outputs": [
    {
     "name": "stdout",
     "output_type": "stream",
     "text": [
      "(5000, 784) (5000, 10)\n"
     ]
    }
   ],
   "source": [
    "X = data[:, 1:]/255.0\n",
    "y = np_utils.to_categorical(data[:, 0])\n",
    "\n",
    "print X.shape, y.shape"
   ]
  },
  {
   "cell_type": "code",
   "execution_count": 4,
   "metadata": {
    "collapsed": false
   },
   "outputs": [
    {
     "name": "stdout",
     "output_type": "stream",
     "text": [
      "(4000, 784) (1000, 784)\n",
      "(4000, 10) (1000, 10)\n"
     ]
    }
   ],
   "source": [
    "split = int(0.8 * X.shape[0])\n",
    "\n",
    "X_train = X[:split]\n",
    "X_test = X[split:]\n",
    "\n",
    "y_train = y[:split]\n",
    "y_test = y[split:]\n",
    "\n",
    "print X_train.shape, X_test.shape\n",
    "print y_train.shape, y_test.shape"
   ]
  },
  {
   "cell_type": "code",
   "execution_count": 40,
   "metadata": {
    "collapsed": false
   },
   "outputs": [
    {
     "name": "stdout",
     "output_type": "stream",
     "text": [
      "_________________________________________________________________\n",
      "Layer (type)                 Output Shape              Param #   \n",
      "=================================================================\n",
      "dense_49 (Dense)             (None, 430)               337550    \n",
      "_________________________________________________________________\n",
      "activation_49 (Activation)   (None, 430)               0         \n",
      "_________________________________________________________________\n",
      "dense_50 (Dense)             (None, 256)               110336    \n",
      "_________________________________________________________________\n",
      "activation_50 (Activation)   (None, 256)               0         \n",
      "_________________________________________________________________\n",
      "dropout_3 (Dropout)          (None, 256)               0         \n",
      "_________________________________________________________________\n",
      "dense_51 (Dense)             (None, 148)               38036     \n",
      "_________________________________________________________________\n",
      "activation_51 (Activation)   (None, 148)               0         \n",
      "_________________________________________________________________\n",
      "dropout_4 (Dropout)          (None, 148)               0         \n",
      "_________________________________________________________________\n",
      "dense_52 (Dense)             (None, 10)                1490      \n",
      "_________________________________________________________________\n",
      "activation_52 (Activation)   (None, 10)                0         \n",
      "=================================================================\n",
      "Total params: 487,412.0\n",
      "Trainable params: 487,412.0\n",
      "Non-trainable params: 0.0\n",
      "_________________________________________________________________\n"
     ]
    }
   ],
   "source": [
    "model = Sequential()\n",
    "act = 'relu'\n",
    "\n",
    "model.add(Dense(430, input_shape=(784,)))\n",
    "model.add(Activation(act))\n",
    "\n",
    "model.add(Dense(256))\n",
    "model.add(Activation(act))\n",
    "model.add(Dropout(0.42))\n",
    "\n",
    "model.add(Dense(148))\n",
    "model.add(Activation(act))\n",
    "model.add(Dropout(0.3))\n",
    "\n",
    "model.add(Dense(10))\n",
    "model.add(Activation('softmax'))\n",
    "\n",
    "model.compile(loss='categorical_crossentropy', optimizer='adam', metrics=['accuracy'])\n",
    "model.summary()"
   ]
  },
  {
   "cell_type": "code",
   "execution_count": 41,
   "metadata": {
    "collapsed": false,
    "scrolled": false
   },
   "outputs": [
    {
     "name": "stdout",
     "output_type": "stream",
     "text": [
      "Train on 4000 samples, validate on 1000 samples\n",
      "Epoch 1/20\n",
      "0s - loss: 1.2130 - acc: 0.6085 - val_loss: 0.4359 - val_acc: 0.8730\n",
      "Epoch 2/20\n",
      "0s - loss: 0.4631 - acc: 0.8597 - val_loss: 0.3167 - val_acc: 0.9010\n",
      "Epoch 3/20\n",
      "0s - loss: 0.3260 - acc: 0.9030 - val_loss: 0.2675 - val_acc: 0.9190\n",
      "Epoch 4/20\n",
      "0s - loss: 0.2355 - acc: 0.9300 - val_loss: 0.2349 - val_acc: 0.9180\n",
      "Epoch 5/20\n",
      "0s - loss: 0.1627 - acc: 0.9540 - val_loss: 0.2483 - val_acc: 0.9240\n",
      "Epoch 6/20\n",
      "0s - loss: 0.1252 - acc: 0.9642 - val_loss: 0.2085 - val_acc: 0.9340\n",
      "Epoch 7/20\n",
      "0s - loss: 0.1028 - acc: 0.9717 - val_loss: 0.1984 - val_acc: 0.9360\n",
      "Epoch 8/20\n",
      "0s - loss: 0.0775 - acc: 0.9770 - val_loss: 0.1982 - val_acc: 0.9380\n",
      "Epoch 9/20\n",
      "0s - loss: 0.0617 - acc: 0.9815 - val_loss: 0.1954 - val_acc: 0.9410\n",
      "Epoch 10/20\n",
      "0s - loss: 0.0455 - acc: 0.9875 - val_loss: 0.2037 - val_acc: 0.9430\n",
      "Epoch 11/20\n",
      "0s - loss: 0.0348 - acc: 0.9882 - val_loss: 0.1894 - val_acc: 0.9480\n",
      "Epoch 12/20\n",
      "0s - loss: 0.0309 - acc: 0.9917 - val_loss: 0.1855 - val_acc: 0.9460\n",
      "Epoch 13/20\n",
      "0s - loss: 0.0193 - acc: 0.9947 - val_loss: 0.2387 - val_acc: 0.9390\n",
      "Epoch 14/20\n",
      "0s - loss: 0.0269 - acc: 0.9927 - val_loss: 0.2261 - val_acc: 0.9410\n",
      "Epoch 15/20\n",
      "0s - loss: 0.0177 - acc: 0.9950 - val_loss: 0.2307 - val_acc: 0.9380\n",
      "Epoch 16/20\n",
      "0s - loss: 0.0170 - acc: 0.9935 - val_loss: 0.2227 - val_acc: 0.9470\n",
      "Epoch 17/20\n",
      "0s - loss: 0.0193 - acc: 0.9950 - val_loss: 0.2462 - val_acc: 0.9340\n",
      "Epoch 18/20\n",
      "0s - loss: 0.0111 - acc: 0.9972 - val_loss: 0.2109 - val_acc: 0.9480\n",
      "Epoch 19/20\n",
      "0s - loss: 0.0187 - acc: 0.9932 - val_loss: 0.2899 - val_acc: 0.9360\n",
      "Epoch 20/20\n",
      "0s - loss: 0.0187 - acc: 0.9942 - val_loss: 0.2304 - val_acc: 0.9470\n"
     ]
    }
   ],
   "source": [
    "hist = model.fit(X_train, y_train,\n",
    "                epochs=20,\n",
    "                shuffle=True,\n",
    "                batch_size=100,\n",
    "                validation_data=(X_test, y_test), verbose=2)"
   ]
  },
  {
   "cell_type": "code",
   "execution_count": 42,
   "metadata": {
    "collapsed": false
   },
   "outputs": [
    {
     "data": {
      "image/png": "[encoded data removed]",
      "text/plain": [
       "<matplotlib.figure.Figure at 0x7f221b256c10>"
      ]
     },
     "metadata": {},
     "output_type": "display_data"
    },
    {
     "data": {
      "image/png": "[encoded data removed]",
      "text/plain": [
       "<matplotlib.figure.Figure at 0x7f221b9d9610>"
      ]
     },
     "metadata": {},
     "output_type": "display_data"
    }
   ],
   "source": [
    "h_data = hist.history\n",
    "\n",
    "plt.figure(0)\n",
    "plt.title('Losses')\n",
    "plt.plot(h_data['loss'], 'green')\n",
    "plt.plot(h_data['val_loss'], 'red')\n",
    "\n",
    "plt.figure(1)\n",
    "plt.title('Accuracies')\n",
    "plt.plot(h_data['acc'], 'green')\n",
    "plt.plot(h_data['val_acc'], 'red')\n",
    "\n",
    "plt.show()"
   ]
  },
  {
   "cell_type": "code",
   "execution_count": null,
   "metadata": {
    "collapsed": true
   },
   "outputs": [],
   "source": []
  }
 ],
 "metadata": {
  "kernelspec": {
   "display_name": "Python 2",
   "language": "python",
   "name": "python2"
  },
  "language_info": {
   "codemirror_mode": {
    "name": "ipython",
    "version": 2
   },
   "file_extension": ".py",
   "mimetype": "text/x-python",
   "name": "python",
   "nbconvert_exporter": "python",
   "pygments_lexer": "ipython2",
   "version": "2.7.12"
  }
 },
 "nbformat": 4,
 "nbformat_minor": 2
}
