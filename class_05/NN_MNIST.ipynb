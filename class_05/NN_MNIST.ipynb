{
 "cells": [
  {
   "cell_type": "code",
   "execution_count": 30,
   "metadata": {
    "collapsed": false
   },
   "outputs": [],
   "source": [
    "import numpy as np\n",
    "from matplotlib import pyplot as plt\n",
    "%matplotlib inline\n",
    "import pandas as pd\n",
    "import keras\n",
    "\n",
    "from keras.layers import Dense, Activation, Dropout\n",
    "from keras.models import Sequential\n",
    "from keras.utils import np_utils\n",
    "from keras import regularizers"
   ]
  },
  {
   "cell_type": "code",
   "execution_count": 2,
   "metadata": {
    "collapsed": false
   },
   "outputs": [
    {
     "name": "stdout",
     "output_type": "stream",
     "text": [
      "(5000, 785)\n"
     ]
    }
   ],
   "source": [
    "ds = pd.read_csv('../train.csv')\n",
    "data = ds.values[:5000]\n",
    "\n",
    "print data.shape"
   ]
  },
  {
   "cell_type": "code",
   "execution_count": 3,
   "metadata": {
    "collapsed": false
   },
   "outputs": [
    {
     "name": "stdout",
     "output_type": "stream",
     "text": [
      "(5000, 784) (5000, 10)\n"
     ]
    }
   ],
   "source": [
    "X = data[:, 1:]/255.0\n",
    "y = np_utils.to_categorical(data[:, 0])\n",
    "\n",
    "print X.shape, y.shape"
   ]
  },
  {
   "cell_type": "code",
   "execution_count": 4,
   "metadata": {
    "collapsed": false
   },
   "outputs": [
    {
     "name": "stdout",
     "output_type": "stream",
     "text": [
      "(4000, 784) (1000, 784)\n",
      "(4000, 10) (1000, 10)\n"
     ]
    }
   ],
   "source": [
    "split = int(0.8 * X.shape[0])\n",
    "\n",
    "X_train = X[:split]\n",
    "X_test = X[split:]\n",
    "\n",
    "y_train = y[:split]\n",
    "y_test = y[split:]\n",
    "\n",
    "print X_train.shape, X_test.shape\n",
    "print y_train.shape, y_test.shape"
   ]
  },
  {
   "cell_type": "code",
   "execution_count": 31,
   "metadata": {
    "collapsed": false
   },
   "outputs": [
    {
     "name": "stdout",
     "output_type": "stream",
     "text": [
      "_________________________________________________________________\n",
      "Layer (type)                 Output Shape              Param #   \n",
      "=================================================================\n",
      "dense_37 (Dense)             (None, 430)               337550    \n",
      "_________________________________________________________________\n",
      "activation_37 (Activation)   (None, 430)               0         \n",
      "_________________________________________________________________\n",
      "dropout_1 (Dropout)          (None, 430)               0         \n",
      "_________________________________________________________________\n",
      "dense_38 (Dense)             (None, 256)               110336    \n",
      "_________________________________________________________________\n",
      "activation_38 (Activation)   (None, 256)               0         \n",
      "_________________________________________________________________\n",
      "dense_39 (Dense)             (None, 148)               38036     \n",
      "_________________________________________________________________\n",
      "activation_39 (Activation)   (None, 148)               0         \n",
      "_________________________________________________________________\n",
      "dense_40 (Dense)             (None, 10)                1490      \n",
      "_________________________________________________________________\n",
      "activation_40 (Activation)   (None, 10)                0         \n",
      "=================================================================\n",
      "Total params: 487,412.0\n",
      "Trainable params: 487,412.0\n",
      "Non-trainable params: 0.0\n",
      "_________________________________________________________________\n"
     ]
    }
   ],
   "source": [
    "model = Sequential()\n",
    "act = 'relu'\n",
    "\n",
    "model.add(Dense(430, input_shape=(784,)))\n",
    "model.add(Activation(act))\n",
    "# model.add(Dropout(0.42))\n",
    "\n",
    "model.add(Dense(256))\n",
    "model.add(Activation(act))\n",
    "\n",
    "model.add(Dense(148))\n",
    "model.add(Activation(act))\n",
    "\n",
    "model.add(Dense(10))\n",
    "model.add(Activation('softmax'))\n",
    "\n",
    "model.compile(loss='categorical_crossentropy', optimizer='adam', metrics=['accuracy'])\n",
    "model.summary()"
   ]
  },
  {
   "cell_type": "code",
   "execution_count": 32,
   "metadata": {
    "collapsed": false,
    "scrolled": false
   },
   "outputs": [
    {
     "name": "stdout",
     "output_type": "stream",
     "text": [
      "Train on 4000 samples, validate on 1000 samples\n",
      "Epoch 1/20\n",
      "0s - loss: 1.0738 - acc: 0.6687 - val_loss: 0.4230 - val_acc: 0.8600\n",
      "Epoch 2/20\n",
      "0s - loss: 0.4055 - acc: 0.8763 - val_loss: 0.2967 - val_acc: 0.9080\n",
      "Epoch 3/20\n",
      "0s - loss: 0.2649 - acc: 0.9175 - val_loss: 0.2443 - val_acc: 0.9190\n",
      "Epoch 4/20\n",
      "0s - loss: 0.2017 - acc: 0.9415 - val_loss: 0.2097 - val_acc: 0.9340\n",
      "Epoch 5/20\n",
      "0s - loss: 0.1626 - acc: 0.9528 - val_loss: 0.2195 - val_acc: 0.9330\n",
      "Epoch 6/20\n",
      "0s - loss: 0.1382 - acc: 0.9580 - val_loss: 0.2042 - val_acc: 0.9390\n",
      "Epoch 7/20\n",
      "0s - loss: 0.1034 - acc: 0.9692 - val_loss: 0.1857 - val_acc: 0.9390\n",
      "Epoch 8/20\n",
      "0s - loss: 0.0774 - acc: 0.9787 - val_loss: 0.1825 - val_acc: 0.9410\n",
      "Epoch 9/20\n",
      "0s - loss: 0.0633 - acc: 0.9795 - val_loss: 0.1791 - val_acc: 0.9510\n",
      "Epoch 10/20\n",
      "0s - loss: 0.0572 - acc: 0.9842 - val_loss: 0.2218 - val_acc: 0.9420\n",
      "Epoch 11/20\n",
      "0s - loss: 0.0526 - acc: 0.9835 - val_loss: 0.1866 - val_acc: 0.9390\n",
      "Epoch 12/20\n",
      "0s - loss: 0.0483 - acc: 0.9842 - val_loss: 0.1961 - val_acc: 0.9420\n",
      "Epoch 13/20\n",
      "0s - loss: 0.0386 - acc: 0.9870 - val_loss: 0.1819 - val_acc: 0.9520\n",
      "Epoch 14/20\n",
      "0s - loss: 0.0316 - acc: 0.9902 - val_loss: 0.1936 - val_acc: 0.9490\n",
      "Epoch 15/20\n",
      "0s - loss: 0.0349 - acc: 0.9887 - val_loss: 0.1820 - val_acc: 0.9560\n",
      "Epoch 16/20\n",
      "0s - loss: 0.0280 - acc: 0.9925 - val_loss: 0.1821 - val_acc: 0.9570\n",
      "Epoch 17/20\n",
      "0s - loss: 0.0248 - acc: 0.9912 - val_loss: 0.2091 - val_acc: 0.9480\n",
      "Epoch 18/20\n",
      "0s - loss: 0.0211 - acc: 0.9925 - val_loss: 0.2232 - val_acc: 0.9550\n",
      "Epoch 19/20\n",
      "0s - loss: 0.0258 - acc: 0.9907 - val_loss: 0.2183 - val_acc: 0.9510\n",
      "Epoch 20/20\n",
      "0s - loss: 0.0231 - acc: 0.9927 - val_loss: 0.2346 - val_acc: 0.9530\n"
     ]
    }
   ],
   "source": [
    "hist = model.fit(X_train, y_train,\n",
    "                epochs=20,\n",
    "                shuffle=True,\n",
    "                batch_size=100,\n",
    "                validation_data=(X_test, y_test), verbose=2)"
   ]
  },
  {
   "cell_type": "code",
   "execution_count": 33,
   "metadata": {
    "collapsed": false
   },
   "outputs": [
    {
     "data": {
      "image/png": "[encoded data removed]",
      "text/plain": [
       "<matplotlib.figure.Figure at 0x7f222015fc50>"
      ]
     },
     "metadata": {},
     "output_type": "display_data"
    },
    {
     "data": {
      "image/png": "[encoded data removed]",
      "text/plain": [
       "<matplotlib.figure.Figure at 0x7f23001aa8d0>"
      ]
     },
     "metadata": {},
     "output_type": "display_data"
    }
   ],
   "source": [
    "h_data = hist.history\n",
    "\n",
    "plt.figure(0)\n",
    "plt.title('Losses')\n",
    "plt.plot(h_data['loss'], 'green')\n",
    "plt.plot(h_data['val_loss'], 'red')\n",
    "\n",
    "plt.figure(1)\n",
    "plt.title('Accuracies')\n",
    "plt.plot(h_data['acc'], 'green')\n",
    "plt.plot(h_data['val_acc'], 'red')\n",
    "\n",
    "plt.show()"
   ]
  },
  {
   "cell_type": "code",
   "execution_count": null,
   "metadata": {
    "collapsed": true
   },
   "outputs": [],
   "source": []
  }
 ],
 "metadata": {
  "kernelspec": {
   "display_name": "Python 2",
   "language": "python",
   "name": "python2"
  },
  "language_info": {
   "codemirror_mode": {
    "name": "ipython",
    "version": 2
   },
   "file_extension": ".py",
   "mimetype": "text/x-python",
   "name": "python",
   "nbconvert_exporter": "python",
   "pygments_lexer": "ipython2",
   "version": "2.7.12"
  }
 },
 "nbformat": 4,
 "nbformat_minor": 2
}
