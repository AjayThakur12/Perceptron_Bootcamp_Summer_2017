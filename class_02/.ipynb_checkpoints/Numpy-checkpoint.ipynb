{
 "cells": [
  {
   "cell_type": "code",
   "execution_count": 3,
   "metadata": {
    "collapsed": false
   },
   "outputs": [],
   "source": [
    "import numpy as np\n",
    "from matplotlib import pyplot as plt\n",
    "\n",
    "# only for jupyter\n",
    "%matplotlib inline"
   ]
  },
  {
   "cell_type": "code",
   "execution_count": 4,
   "metadata": {
    "collapsed": false
   },
   "outputs": [
    {
     "name": "stdout",
     "output_type": "stream",
     "text": [
      "[[1, 1], [1, 2], [2, 1], [3, 3], [-1, 0], [0, 2]]\n"
     ]
    }
   ],
   "source": [
    "pts = [[1, 1], [1, 2], [2, 1], [3, 3], [-1, 0], [0, 2]]\n",
    "print pts"
   ]
  },
  {
   "cell_type": "code",
   "execution_count": 7,
   "metadata": {
    "collapsed": false
   },
   "outputs": [
    {
     "name": "stdout",
     "output_type": "stream",
     "text": [
      "(6, 2)\n",
      "<type 'numpy.ndarray'>\n"
     ]
    }
   ],
   "source": [
    "x = np.array(pts)\n",
    "print x.shape\n",
    "print type(x)"
   ]
  },
  {
   "cell_type": "code",
   "execution_count": 15,
   "metadata": {
    "collapsed": false
   },
   "outputs": [
    {
     "name": "stdout",
     "output_type": "stream",
     "text": [
      "[[ 1  1]\n",
      " [ 1  2]\n",
      " [ 2  1]\n",
      " [ 3  3]\n",
      " [-1  0]\n",
      " [ 0  2]]\n",
      "[1 2 1 3 0 2]\n"
     ]
    }
   ],
   "source": [
    "print x\n",
    "print x[:, 1]"
   ]
  },
  {
   "cell_type": "code",
   "execution_count": 21,
   "metadata": {
    "collapsed": false
   },
   "outputs": [
    {
     "name": "stdout",
     "output_type": "stream",
     "text": [
      "(6, 2)\n",
      "(2, 6)\n"
     ]
    }
   ],
   "source": [
    "# Matrix multiplication\n",
    "a = np.array(x)*2\n",
    "print a.shape\n",
    "print a.T.shape"
   ]
  },
  {
   "cell_type": "code",
   "execution_count": 30,
   "metadata": {
    "collapsed": false
   },
   "outputs": [
    {
     "name": "stdout",
     "output_type": "stream",
     "text": [
      "[[ 4  6  6 12 -2  4]\n",
      " [ 6 10  8 18 -2  8]\n",
      " [ 6  8 10 18 -4  4]\n",
      " [12 18 18 36 -6 12]\n",
      " [-2 -2 -4 -6  2  0]\n",
      " [ 4  8  4 12  0  8]]\n",
      "(6, 6)\n",
      "[[ 4  6  6 12 -2  4]\n",
      " [ 6 10  8 18 -2  8]\n",
      " [ 6  8 10 18 -4  4]\n",
      " [12 18 18 36 -6 12]\n",
      " [-2 -2 -4 -6  2  0]\n",
      " [ 4  8  4 12  0  8]]\n"
     ]
    }
   ],
   "source": [
    "z = np.dot(x, a.T)\n",
    "print z\n",
    "print z.shape\n",
    "\n",
    "print x.dot(a.T)"
   ]
  },
  {
   "cell_type": "code",
   "execution_count": 35,
   "metadata": {
    "collapsed": false
   },
   "outputs": [
    {
     "data": {
      "image/png": "[encoded data removed]",
      "text/plain": [
       "<matplotlib.figure.Figure at 0x7fa5716eae90>"
      ]
     },
     "metadata": {},
     "output_type": "display_data"
    }
   ],
   "source": [
    "plt.figure(0)\n",
    "plt.xlim(-3, 4)\n",
    "plt.ylim(-4, 4)\n",
    "plt.scatter(x[:, 0], x[:, 1])\n",
    "plt.show()"
   ]
  }
 ],
 "metadata": {
  "kernelspec": {
   "display_name": "Python 2",
   "language": "python",
   "name": "python2"
  },
  "language_info": {
   "codemirror_mode": {
    "name": "ipython",
    "version": 2
   },
   "file_extension": ".py",
   "mimetype": "text/x-python",
   "name": "python",
   "nbconvert_exporter": "python",
   "pygments_lexer": "ipython2",
   "version": "2.7.12"
  }
 },
 "nbformat": 4,
 "nbformat_minor": 2
}
