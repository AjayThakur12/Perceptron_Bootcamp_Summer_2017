{
 "cells": [
  {
   "cell_type": "code",
   "execution_count": 3,
   "metadata": {
    "collapsed": false
   },
   "outputs": [],
   "source": [
    "import numpy as np\n",
    "from matplotlib import pyplot as plt\n",
    "\n",
    "# only for jupyter\n",
    "%matplotlib inline"
   ]
  },
  {
   "cell_type": "code",
   "execution_count": 4,
   "metadata": {
    "collapsed": false
   },
   "outputs": [
    {
     "name": "stdout",
     "output_type": "stream",
     "text": [
      "[[1, 1], [1, 2], [2, 1], [3, 3], [-1, 0], [0, 2]]\n"
     ]
    }
   ],
   "source": [
    "pts = [[1, 1], [1, 2], [2, 1], [3, 3], [-1, 0], [0, 2]]\n",
    "print pts"
   ]
  },
  {
   "cell_type": "code",
   "execution_count": 7,
   "metadata": {
    "collapsed": false
   },
   "outputs": [
    {
     "name": "stdout",
     "output_type": "stream",
     "text": [
      "(6, 2)\n",
      "<type 'numpy.ndarray'>\n"
     ]
    }
   ],
   "source": [
    "x = np.array(pts)\n",
    "print x.shape\n",
    "print type(x)"
   ]
  },
  {
   "cell_type": "code",
   "execution_count": 15,
   "metadata": {
    "collapsed": false
   },
   "outputs": [
    {
     "name": "stdout",
     "output_type": "stream",
     "text": [
      "[[ 1  1]\n",
      " [ 1  2]\n",
      " [ 2  1]\n",
      " [ 3  3]\n",
      " [-1  0]\n",
      " [ 0  2]]\n",
      "[1 2 1 3 0 2]\n"
     ]
    }
   ],
   "source": [
    "print x\n",
    "print x[:, 1]"
   ]
  },
  {
   "cell_type": "code",
   "execution_count": 21,
   "metadata": {
    "collapsed": false
   },
   "outputs": [
    {
     "name": "stdout",
     "output_type": "stream",
     "text": [
      "(6, 2)\n",
      "(2, 6)\n"
     ]
    }
   ],
   "source": [
    "# Matrix multiplication\n",
    "a = np.array(x)*2\n",
    "print a.shape\n",
    "print a.T.shape"
   ]
  },
  {
   "cell_type": "code",
   "execution_count": 30,
   "metadata": {
    "collapsed": false
   },
   "outputs": [
    {
     "name": "stdout",
     "output_type": "stream",
     "text": [
      "[[ 4  6  6 12 -2  4]\n",
      " [ 6 10  8 18 -2  8]\n",
      " [ 6  8 10 18 -4  4]\n",
      " [12 18 18 36 -6 12]\n",
      " [-2 -2 -4 -6  2  0]\n",
      " [ 4  8  4 12  0  8]]\n",
      "(6, 6)\n",
      "[[ 4  6  6 12 -2  4]\n",
      " [ 6 10  8 18 -2  8]\n",
      " [ 6  8 10 18 -4  4]\n",
      " [12 18 18 36 -6 12]\n",
      " [-2 -2 -4 -6  2  0]\n",
      " [ 4  8  4 12  0  8]]\n"
     ]
    }
   ],
   "source": [
    "z = np.dot(x, a.T)\n",
    "print z\n",
    "print z.shape\n",
    "\n",
    "print x.dot(a.T)"
   ]
  },
  {
   "cell_type": "code",
   "execution_count": 37,
   "metadata": {
    "collapsed": false
   },
   "outputs": [
    {
     "data": {
      "image/png": "[encoded data removed]",
      "text/plain": [
       "<matplotlib.figure.Figure at 0x7fa571571b10>"
      ]
     },
     "metadata": {},
     "output_type": "display_data"
    }
   ],
   "source": [
    "plt.figure(0)\n",
    "plt.xlim(-3, 4)\n",
    "plt.ylim(-4, 4)\n",
    "plt.scatter(x[:, 0], x[:, 1], color='red')\n",
    "plt.show()"
   ]
  },
  {
   "cell_type": "code",
   "execution_count": 40,
   "metadata": {
    "collapsed": false
   },
   "outputs": [
    {
     "name": "stdout",
     "output_type": "stream",
     "text": [
      "(100, 2)\n",
      "[[ 0.45037037  0.99927038]\n",
      " [ 0.33060255  0.58407868]\n",
      " [ 0.82513681  0.27988506]\n",
      " [ 0.69379799  0.30866684]\n",
      " [ 0.8567886   0.2574248 ]]\n"
     ]
    }
   ],
   "source": [
    "size = (100, 2)\n",
    "x = np.random.random(size)\n",
    "print x.shape\n",
    "print x[:5, :]"
   ]
  },
  {
   "cell_type": "code",
   "execution_count": 65,
   "metadata": {
    "collapsed": false
   },
   "outputs": [
    {
     "name": "stdout",
     "output_type": "stream",
     "text": [
      "(500, 2)\n",
      "(500, 2)\n"
     ]
    }
   ],
   "source": [
    "mean_01 = np.array([1, 1])\n",
    "cov_01 = np.array([[2.9, 1.4], [1.7, 1.5]])\n",
    "\n",
    "mean_02 = np.array([4, 7])\n",
    "cov_02 = np.array([[2, -0.7], [-0.7, 1.5]])\n",
    "\n",
    "data_01 = np.random.multivariate_normal(mean_01, cov_01, 500)\n",
    "data_02 = np.random.multivariate_normal(mean_02, cov_02, 500)\n",
    "print data_01.shape\n",
    "print data_02.shape"
   ]
  },
  {
   "cell_type": "code",
   "execution_count": 66,
   "metadata": {
    "collapsed": false
   },
   "outputs": [
    {
     "data": {
      "image/png": "[encoded data removed]",
      "text/plain": [
       "<matplotlib.figure.Figure at 0x7fa570f9d1d0>"
      ]
     },
     "metadata": {},
     "output_type": "display_data"
    }
   ],
   "source": [
    "plt.figure(0)\n",
    "\n",
    "plt.scatter(data_01[:, 0], data_01[:, 1])\n",
    "plt.scatter(data_02[:, 0], data_02[:, 1], color='red')\n",
    "\n",
    "plt.show()"
   ]
  }
 ],
 "metadata": {
  "kernelspec": {
   "display_name": "Python 2",
   "language": "python",
   "name": "python2"
  },
  "language_info": {
   "codemirror_mode": {
    "name": "ipython",
    "version": 2
   },
   "file_extension": ".py",
   "mimetype": "text/x-python",
   "name": "python",
   "nbconvert_exporter": "python",
   "pygments_lexer": "ipython2",
   "version": "2.7.12"
  }
 },
 "nbformat": 4,
 "nbformat_minor": 2
}
