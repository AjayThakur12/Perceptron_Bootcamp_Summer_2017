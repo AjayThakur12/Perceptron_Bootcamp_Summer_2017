{
 "cells": [
  {
   "cell_type": "code",
   "execution_count": 1,
   "metadata": {
    "collapsed": false
   },
   "outputs": [
    {
     "name": "stderr",
     "output_type": "stream",
     "text": [
      "Using TensorFlow backend.\n"
     ]
    }
   ],
   "source": [
    "import numpy as np\n",
    "from matplotlib import pyplot as plt\n",
    "%matplotlib inline\n",
    "import pandas as pd\n",
    "\n",
    "import keras\n",
    "from keras.layers import Dense, Activation, MaxPool2D, Conv2D, Flatten, Dropout\n",
    "from keras.utils import np_utils\n",
    "from keras.models import Sequential, Model"
   ]
  },
  {
   "cell_type": "code",
   "execution_count": 2,
   "metadata": {
    "collapsed": true
   },
   "outputs": [],
   "source": [
    "ds = pd.read_csv('../train.csv')\n",
    "data = ds.values[:10000]"
   ]
  },
  {
   "cell_type": "code",
   "execution_count": 3,
   "metadata": {
    "collapsed": false
   },
   "outputs": [
    {
     "name": "stdout",
     "output_type": "stream",
     "text": [
      "(10000, 784) (10000, 10)\n"
     ]
    }
   ],
   "source": [
    "X = data[:, 1:]/255.0\n",
    "y = np_utils.to_categorical(data[:, 0])\n",
    "\n",
    "print X.shape, y.shape"
   ]
  },
  {
   "cell_type": "code",
   "execution_count": 4,
   "metadata": {
    "collapsed": false
   },
   "outputs": [
    {
     "name": "stdout",
     "output_type": "stream",
     "text": [
      "(8000, 28, 28, 1) (8000, 10)\n",
      "(2000, 28, 28, 1) (2000, 10)\n"
     ]
    }
   ],
   "source": [
    "split = int(0.8 * X.shape[0])\n",
    "\n",
    "X_train = X[:split].reshape((-1, 28, 28, 1))\n",
    "X_test = X[split:].reshape((-1, 28, 28, 1))\n",
    "\n",
    "y_train = y[:split]\n",
    "y_test = y[split:]\n",
    "\n",
    "print X_train.shape, y_train.shape\n",
    "print X_test.shape, y_test.shape"
   ]
  },
  {
   "cell_type": "code",
   "execution_count": 5,
   "metadata": {
    "collapsed": false
   },
   "outputs": [
    {
     "name": "stdout",
     "output_type": "stream",
     "text": [
      "_________________________________________________________________\n",
      "Layer (type)                 Output Shape              Param #   \n",
      "=================================================================\n",
      "conv2d_1 (Conv2D)            (None, 26, 26, 64)        640       \n",
      "_________________________________________________________________\n",
      "activation_1 (Activation)    (None, 26, 26, 64)        0         \n",
      "_________________________________________________________________\n",
      "conv2d_2 (Conv2D)            (None, 24, 24, 32)        18464     \n",
      "_________________________________________________________________\n",
      "max_pooling2d_1 (MaxPooling2 (None, 12, 12, 32)        0         \n",
      "_________________________________________________________________\n",
      "activation_2 (Activation)    (None, 12, 12, 32)        0         \n",
      "_________________________________________________________________\n",
      "conv2d_3 (Conv2D)            (None, 8, 8, 8)           6408      \n",
      "_________________________________________________________________\n",
      "activation_3 (Activation)    (None, 8, 8, 8)           0         \n",
      "_________________________________________________________________\n",
      "flatten_1 (Flatten)          (None, 512)               0         \n",
      "_________________________________________________________________\n",
      "dense_1 (Dense)              (None, 128)               65664     \n",
      "_________________________________________________________________\n",
      "dropout_1 (Dropout)          (None, 128)               0         \n",
      "_________________________________________________________________\n",
      "activation_4 (Activation)    (None, 128)               0         \n",
      "_________________________________________________________________\n",
      "dense_2 (Dense)              (None, 10)                1290      \n",
      "_________________________________________________________________\n",
      "activation_5 (Activation)    (None, 10)                0         \n",
      "=================================================================\n",
      "Total params: 92,466.0\n",
      "Trainable params: 92,466.0\n",
      "Non-trainable params: 0.0\n",
      "_________________________________________________________________\n"
     ]
    }
   ],
   "source": [
    "model = Sequential()\n",
    "act = 'relu'\n",
    "\n",
    "model.add(Conv2D(64, 3, input_shape=(28, 28, 1)))\n",
    "model.add(Activation(act))\n",
    "\n",
    "model.add(Conv2D(32, 3))\n",
    "model.add(MaxPool2D(pool_size=(2, 2)))\n",
    "model.add(Activation(act))\n",
    "\n",
    "model.add(Conv2D(8, 5))\n",
    "model.add(Activation(act))\n",
    "\n",
    "model.add(Flatten())\n",
    "\n",
    "model.add(Dense(128))\n",
    "model.add(Dropout(0.42))\n",
    "model.add(Activation(act))\n",
    "\n",
    "model.add(Dense(10))\n",
    "model.add(Activation('softmax'))\n",
    "\n",
    "model.compile(loss='categorical_crossentropy', optimizer='adam', metrics=['accuracy'])\n",
    "model.summary()"
   ]
  },
  {
   "cell_type": "code",
   "execution_count": 6,
   "metadata": {
    "collapsed": false
   },
   "outputs": [
    {
     "name": "stdout",
     "output_type": "stream",
     "text": [
      "Train on 8000 samples, validate on 2000 samples\n",
      "Epoch 1/10\n",
      "14s - loss: 0.8929 - acc: 0.7123 - val_loss: 0.2558 - val_acc: 0.9125\n",
      "Epoch 2/10\n",
      "14s - loss: 0.2807 - acc: 0.9123 - val_loss: 0.1609 - val_acc: 0.9500\n",
      "Epoch 3/10\n",
      "15s - loss: 0.1890 - acc: 0.9450 - val_loss: 0.1204 - val_acc: 0.9580\n",
      "Epoch 4/10\n",
      "14s - loss: 0.1486 - acc: 0.9557 - val_loss: 0.0984 - val_acc: 0.9695\n",
      "Epoch 5/10\n",
      "14s - loss: 0.1104 - acc: 0.9653 - val_loss: 0.0860 - val_acc: 0.9735\n",
      "Epoch 6/10\n",
      "14s - loss: 0.0909 - acc: 0.9723 - val_loss: 0.0819 - val_acc: 0.9720\n",
      "Epoch 7/10\n",
      "14s - loss: 0.0785 - acc: 0.9753 - val_loss: 0.0847 - val_acc: 0.9750\n",
      "Epoch 8/10\n",
      "14s - loss: 0.0691 - acc: 0.9788 - val_loss: 0.0827 - val_acc: 0.9760\n",
      "Epoch 9/10\n",
      "14s - loss: 0.0566 - acc: 0.9823 - val_loss: 0.0816 - val_acc: 0.9785\n",
      "Epoch 10/10\n",
      "14s - loss: 0.0527 - acc: 0.9830 - val_loss: 0.0692 - val_acc: 0.9790\n"
     ]
    }
   ],
   "source": [
    "hist = model.fit(X_train, y_train,\n",
    "                epochs=10,\n",
    "                shuffle=True,\n",
    "                batch_size=100,\n",
    "                validation_data=(X_test, y_test),\n",
    "                verbose=2)"
   ]
  },
  {
   "cell_type": "code",
   "execution_count": 7,
   "metadata": {
    "collapsed": false
   },
   "outputs": [
    {
     "data": {
      "image/png": "[encoded data removed]",
      "text/plain": [
       "<matplotlib.figure.Figure at 0x7f65909112d0>"
      ]
     },
     "metadata": {},
     "output_type": "display_data"
    },
    {
     "data": {
      "image/png": "[encoded data removed]",
      "text/plain": [
       "<matplotlib.figure.Figure at 0x7f65908ab8d0>"
      ]
     },
     "metadata": {},
     "output_type": "display_data"
    }
   ],
   "source": [
    "h = hist.history\n",
    "\n",
    "plt.figure(0)\n",
    "plt.plot(h['acc'], 'r')\n",
    "plt.plot(h['val_acc'], 'g')\n",
    "\n",
    "plt.figure(1)\n",
    "plt.plot(h['loss'], 'r')\n",
    "plt.plot(h['val_loss'], 'g')\n",
    "\n",
    "plt.show()"
   ]
  },
  {
   "cell_type": "code",
   "execution_count": 8,
   "metadata": {
    "collapsed": false
   },
   "outputs": [
    {
     "data": {
      "text/plain": [
       "[<keras.layers.convolutional.Conv2D at 0x7f6590e03e50>,\n",
       " <keras.layers.core.Activation at 0x7f6590e03d90>,\n",
       " <keras.layers.convolutional.Conv2D at 0x7f6590df9750>,\n",
       " <keras.layers.pooling.MaxPooling2D at 0x7f6590df9790>,\n",
       " <keras.layers.core.Activation at 0x7f6590df9250>,\n",
       " <keras.layers.convolutional.Conv2D at 0x7f6590fd1710>,\n",
       " <keras.layers.core.Activation at 0x7f6590e0d7d0>,\n",
       " <keras.layers.core.Flatten at 0x7f659100bdd0>,\n",
       " <keras.layers.core.Dense at 0x7f6591007850>,\n",
       " <keras.layers.core.Dropout at 0x7f6590edf890>,\n",
       " <keras.layers.core.Activation at 0x7f6590edb850>,\n",
       " <keras.layers.core.Dense at 0x7f6591007810>,\n",
       " <keras.layers.core.Activation at 0x7f6590ef5fd0>]"
      ]
     },
     "execution_count": 8,
     "metadata": {},
     "output_type": "execute_result"
    }
   ],
   "source": [
    "model.layers"
   ]
  },
  {
   "cell_type": "code",
   "execution_count": null,
   "metadata": {
    "collapsed": true
   },
   "outputs": [],
   "source": [
    "m = Model(inputs=model.input, outputs=model.layers[0])"
   ]
  },
  {
   "cell_type": "code",
   "execution_count": null,
   "metadata": {
    "collapsed": true
   },
   "outputs": [],
   "source": []
  },
  {
   "cell_type": "code",
   "execution_count": null,
   "metadata": {
    "collapsed": true
   },
   "outputs": [],
   "source": []
  },
  {
   "cell_type": "code",
   "execution_count": null,
   "metadata": {
    "collapsed": true
   },
   "outputs": [],
   "source": []
  },
  {
   "cell_type": "code",
   "execution_count": null,
   "metadata": {
    "collapsed": true
   },
   "outputs": [],
   "source": []
  }
 ],
 "metadata": {
  "kernelspec": {
   "display_name": "Python 2",
   "language": "python",
   "name": "python2"
  },
  "language_info": {
   "codemirror_mode": {
    "name": "ipython",
    "version": 2
   },
   "file_extension": ".py",
   "mimetype": "text/x-python",
   "name": "python",
   "nbconvert_exporter": "python",
   "pygments_lexer": "ipython2",
   "version": "2.7.12"
  }
 },
 "nbformat": 4,
 "nbformat_minor": 2
}
