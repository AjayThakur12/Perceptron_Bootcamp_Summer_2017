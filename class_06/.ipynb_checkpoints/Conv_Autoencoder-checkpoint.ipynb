{
 "cells": [
  {
   "cell_type": "code",
   "execution_count": 7,
   "metadata": {
    "collapsed": true
   },
   "outputs": [],
   "source": [
    "import numpy as np\n",
    "from matplotlib import pyplot as plt\n",
    "%matplotlib inline\n",
    "import pandas as pd\n",
    "\n",
    "import keras\n",
    "from keras.layers import Dense, Activation, MaxPool2D, Conv2D, Flatten, Dropout, Reshape\n",
    "from keras.layers import UpSampling2D, ZeroPadding2D\n",
    "from keras.utils import np_utils\n",
    "from keras.models import Sequential, Model"
   ]
  },
  {
   "cell_type": "code",
   "execution_count": 3,
   "metadata": {
    "collapsed": false
   },
   "outputs": [
    {
     "name": "stdout",
     "output_type": "stream",
     "text": [
      "(10000, 784) (10000, 10)\n"
     ]
    }
   ],
   "source": [
    "ds = pd.read_csv('../train.csv')\n",
    "data = ds.values[:10000]\n",
    "\n",
    "X = data[:, 1:]/255.0\n",
    "y = np_utils.to_categorical(data[:, 0])\n",
    "\n",
    "print X.shape, y.shape"
   ]
  },
  {
   "cell_type": "code",
   "execution_count": 4,
   "metadata": {
    "collapsed": false
   },
   "outputs": [
    {
     "name": "stdout",
     "output_type": "stream",
     "text": [
      "(8000, 28, 28, 1) (8000, 10)\n",
      "(2000, 28, 28, 1) (2000, 10)\n"
     ]
    }
   ],
   "source": [
    "split = int(0.8 * X.shape[0])\n",
    "\n",
    "X_train = X[:split].reshape((-1, 28, 28, 1))\n",
    "X_test = X[split:].reshape((-1, 28, 28, 1))\n",
    "\n",
    "y_train = y[:split]\n",
    "y_test = y[split:]\n",
    "\n",
    "print X_train.shape, y_train.shape\n",
    "print X_test.shape, y_test.shape"
   ]
  },
  {
   "cell_type": "code",
   "execution_count": 13,
   "metadata": {
    "collapsed": false
   },
   "outputs": [
    {
     "name": "stdout",
     "output_type": "stream",
     "text": [
      "_________________________________________________________________\n",
      "Layer (type)                 Output Shape              Param #   \n",
      "=================================================================\n",
      "conv2d_27 (Conv2D)           (None, 26, 26, 32)        320       \n",
      "_________________________________________________________________\n",
      "activation_28 (Activation)   (None, 26, 26, 32)        0         \n",
      "_________________________________________________________________\n",
      "conv2d_28 (Conv2D)           (None, 24, 24, 16)        4624      \n",
      "_________________________________________________________________\n",
      "max_pooling2d_8 (MaxPooling2 (None, 12, 12, 16)        0         \n",
      "_________________________________________________________________\n",
      "activation_29 (Activation)   (None, 12, 12, 16)        0         \n",
      "_________________________________________________________________\n",
      "conv2d_29 (Conv2D)           (None, 8, 8, 8)           3208      \n",
      "_________________________________________________________________\n",
      "activation_30 (Activation)   (None, 8, 8, 8)           0         \n",
      "_________________________________________________________________\n",
      "flatten_8 (Flatten)          (None, 512)               0         \n",
      "_________________________________________________________________\n",
      "dense_13 (Dense)             (None, 2)                 1026      \n",
      "_________________________________________________________________\n",
      "dense_14 (Dense)             (None, 512)               1536      \n",
      "_________________________________________________________________\n",
      "activation_31 (Activation)   (None, 512)               0         \n",
      "_________________________________________________________________\n",
      "reshape_7 (Reshape)          (None, 8, 8, 8)           0         \n",
      "_________________________________________________________________\n",
      "zero_padding2d_7 (ZeroPaddin (None, 12, 12, 8)         0         \n",
      "_________________________________________________________________\n",
      "conv2d_30 (Conv2D)           (None, 12, 12, 16)        3216      \n",
      "_________________________________________________________________\n",
      "up_sampling2d_3 (UpSampling2 (None, 24, 24, 16)        0         \n",
      "_________________________________________________________________\n",
      "zero_padding2d_8 (ZeroPaddin (None, 26, 26, 16)        0         \n",
      "_________________________________________________________________\n",
      "conv2d_31 (Conv2D)           (None, 26, 26, 32)        4640      \n",
      "_________________________________________________________________\n",
      "zero_padding2d_9 (ZeroPaddin (None, 28, 28, 32)        0         \n",
      "_________________________________________________________________\n",
      "conv2d_32 (Conv2D)           (None, 28, 28, 1)         289       \n",
      "=================================================================\n",
      "Total params: 18,859.0\n",
      "Trainable params: 18,859.0\n",
      "Non-trainable params: 0.0\n",
      "_________________________________________________________________\n"
     ]
    }
   ],
   "source": [
    "model = Sequential()\n",
    "act = 'relu'\n",
    "\n",
    "model.add(Conv2D(32, 3, input_shape=(28, 28, 1)))\n",
    "model.add(Activation(act))\n",
    "\n",
    "model.add(Conv2D(16, 3))\n",
    "model.add(MaxPool2D(pool_size=(2, 2)))\n",
    "model.add(Activation(act))\n",
    "\n",
    "model.add(Conv2D(8, 5))\n",
    "model.add(Activation(act))\n",
    "\n",
    "model.add(Flatten())\n",
    "model.add(Dense(2))\n",
    "\n",
    "model.add(Dense(512))\n",
    "model.add(Activation(act))\n",
    "\n",
    "model.add(Reshape((8, 8, 8)))\n",
    "model.add(ZeroPadding2D(padding=(2, 2)))\n",
    "model.add(Conv2D(16, 5, padding='same'))\n",
    "model.add(Activation(act))\n",
    "\n",
    "model.add(UpSampling2D(size=(2, 2)))\n",
    "\n",
    "model.add(ZeroPadding2D(padding=(1, 1)))\n",
    "model.add(Conv2D(32, 3, padding='same'))\n",
    "model.add(Activation(act))\n",
    "\n",
    "model.add(ZeroPadding2D(padding=(1, 1)))\n",
    "model.add(Conv2D(1, 3, padding='same'))\n",
    "model.add(Activation(act))\n",
    "\n",
    "model.compile(loss='mse', optimizer='adam', metrics=['accuracy'])\n",
    "model.summary()"
   ]
  }
 ],
 "metadata": {
  "kernelspec": {
   "display_name": "Python 2",
   "language": "python",
   "name": "python2"
  },
  "language_info": {
   "codemirror_mode": {
    "name": "ipython",
    "version": 2
   },
   "file_extension": ".py",
   "mimetype": "text/x-python",
   "name": "python",
   "nbconvert_exporter": "python",
   "pygments_lexer": "ipython2",
   "version": "2.7.12"
  }
 },
 "nbformat": 4,
 "nbformat_minor": 2
}
