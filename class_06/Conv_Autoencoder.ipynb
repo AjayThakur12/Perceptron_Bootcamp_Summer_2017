{
 "cells": [
  {
   "cell_type": "code",
   "execution_count": 7,
   "metadata": {
    "collapsed": true
   },
   "outputs": [],
   "source": [
    "import numpy as np\n",
    "from matplotlib import pyplot as plt\n",
    "%matplotlib inline\n",
    "import pandas as pd\n",
    "\n",
    "import keras\n",
    "from keras.layers import Dense, Activation, MaxPool2D, Conv2D, Flatten, Dropout, Reshape\n",
    "from keras.layers import UpSampling2D, ZeroPadding2D\n",
    "from keras.utils import np_utils\n",
    "from keras.models import Sequential, Model"
   ]
  },
  {
   "cell_type": "code",
   "execution_count": 3,
   "metadata": {
    "collapsed": false
   },
   "outputs": [
    {
     "name": "stdout",
     "output_type": "stream",
     "text": [
      "(10000, 784) (10000, 10)\n"
     ]
    }
   ],
   "source": [
    "ds = pd.read_csv('../train.csv')\n",
    "data = ds.values[:10000]\n",
    "\n",
    "X = data[:, 1:]/255.0\n",
    "y = np_utils.to_categorical(data[:, 0])\n",
    "\n",
    "print X.shape, y.shape"
   ]
  },
  {
   "cell_type": "code",
   "execution_count": 4,
   "metadata": {
    "collapsed": false
   },
   "outputs": [
    {
     "name": "stdout",
     "output_type": "stream",
     "text": [
      "(8000, 28, 28, 1) (8000, 10)\n",
      "(2000, 28, 28, 1) (2000, 10)\n"
     ]
    }
   ],
   "source": [
    "split = int(0.8 * X.shape[0])\n",
    "\n",
    "X_train = X[:split].reshape((-1, 28, 28, 1))\n",
    "X_test = X[split:].reshape((-1, 28, 28, 1))\n",
    "\n",
    "y_train = y[:split]\n",
    "y_test = y[split:]\n",
    "\n",
    "print X_train.shape, y_train.shape\n",
    "print X_test.shape, y_test.shape"
   ]
  },
  {
   "cell_type": "code",
   "execution_count": 15,
   "metadata": {
    "collapsed": false
   },
   "outputs": [
    {
     "name": "stdout",
     "output_type": "stream",
     "text": [
      "_________________________________________________________________\n",
      "Layer (type)                 Output Shape              Param #   \n",
      "=================================================================\n",
      "conv2d_39 (Conv2D)           (None, 26, 26, 32)        320       \n",
      "_________________________________________________________________\n",
      "activation_39 (Activation)   (None, 26, 26, 32)        0         \n",
      "_________________________________________________________________\n",
      "conv2d_40 (Conv2D)           (None, 24, 24, 16)        4624      \n",
      "_________________________________________________________________\n",
      "max_pooling2d_10 (MaxPooling (None, 12, 12, 16)        0         \n",
      "_________________________________________________________________\n",
      "activation_40 (Activation)   (None, 12, 12, 16)        0         \n",
      "_________________________________________________________________\n",
      "conv2d_41 (Conv2D)           (None, 8, 8, 8)           3208      \n",
      "_________________________________________________________________\n",
      "activation_41 (Activation)   (None, 8, 8, 8)           0         \n",
      "_________________________________________________________________\n",
      "flatten_10 (Flatten)         (None, 512)               0         \n",
      "_________________________________________________________________\n",
      "dense_17 (Dense)             (None, 2)                 1026      \n",
      "_________________________________________________________________\n",
      "dense_18 (Dense)             (None, 512)               1536      \n",
      "_________________________________________________________________\n",
      "activation_42 (Activation)   (None, 512)               0         \n",
      "_________________________________________________________________\n",
      "reshape_9 (Reshape)          (None, 8, 8, 8)           0         \n",
      "_________________________________________________________________\n",
      "zero_padding2d_13 (ZeroPaddi (None, 12, 12, 8)         0         \n",
      "_________________________________________________________________\n",
      "conv2d_42 (Conv2D)           (None, 12, 12, 16)        3216      \n",
      "_________________________________________________________________\n",
      "activation_43 (Activation)   (None, 12, 12, 16)        0         \n",
      "_________________________________________________________________\n",
      "up_sampling2d_5 (UpSampling2 (None, 24, 24, 16)        0         \n",
      "_________________________________________________________________\n",
      "zero_padding2d_14 (ZeroPaddi (None, 26, 26, 16)        0         \n",
      "_________________________________________________________________\n",
      "conv2d_43 (Conv2D)           (None, 26, 26, 32)        4640      \n",
      "_________________________________________________________________\n",
      "activation_44 (Activation)   (None, 26, 26, 32)        0         \n",
      "_________________________________________________________________\n",
      "zero_padding2d_15 (ZeroPaddi (None, 28, 28, 32)        0         \n",
      "_________________________________________________________________\n",
      "conv2d_44 (Conv2D)           (None, 28, 28, 1)         289       \n",
      "_________________________________________________________________\n",
      "activation_45 (Activation)   (None, 28, 28, 1)         0         \n",
      "=================================================================\n",
      "Total params: 18,859.0\n",
      "Trainable params: 18,859.0\n",
      "Non-trainable params: 0.0\n",
      "_________________________________________________________________\n"
     ]
    }
   ],
   "source": [
    "model = Sequential()\n",
    "act = 'relu'\n",
    "\n",
    "model.add(Conv2D(32, 3, input_shape=(28, 28, 1)))\n",
    "model.add(Activation(act))\n",
    "\n",
    "model.add(Conv2D(16, 3))\n",
    "model.add(MaxPool2D(pool_size=(2, 2)))\n",
    "model.add(Activation(act))\n",
    "\n",
    "model.add(Conv2D(8, 5))\n",
    "model.add(Activation(act))\n",
    "\n",
    "model.add(Flatten())\n",
    "model.add(Dense(2))\n",
    "\n",
    "model.add(Dense(512))\n",
    "model.add(Activation(act))\n",
    "\n",
    "model.add(Reshape((8, 8, 8)))\n",
    "model.add(ZeroPadding2D(padding=(2, 2)))\n",
    "model.add(Conv2D(16, 5, padding='same'))\n",
    "model.add(Activation(act))\n",
    "\n",
    "model.add(UpSampling2D(size=(2, 2)))\n",
    "\n",
    "model.add(ZeroPadding2D(padding=(1, 1)))\n",
    "model.add(Conv2D(32, 3, padding='same'))\n",
    "model.add(Activation(act))\n",
    "\n",
    "model.add(ZeroPadding2D(padding=(1, 1)))\n",
    "model.add(Conv2D(1, 3, padding='same'))\n",
    "model.add(Activation(act))\n",
    "\n",
    "model.compile(loss='mse', optimizer='adam', metrics=['accuracy'])\n",
    "model.summary()"
   ]
  },
  {
   "cell_type": "code",
   "execution_count": 16,
   "metadata": {
    "collapsed": false
   },
   "outputs": [
    {
     "name": "stdout",
     "output_type": "stream",
     "text": [
      "Train on 8000 samples, validate on 2000 samples\n",
      "Epoch 1/10\n",
      "17s - loss: 0.0688 - acc: 0.7982 - val_loss: 0.0616 - val_acc: 0.7962\n",
      "Epoch 2/10\n",
      "17s - loss: 0.0581 - acc: 0.7963 - val_loss: 0.0570 - val_acc: 0.7954\n",
      "Epoch 3/10\n",
      "16s - loss: 0.0559 - acc: 0.7962 - val_loss: 0.0559 - val_acc: 0.7962\n",
      "Epoch 4/10\n",
      "16s - loss: 0.0544 - acc: 0.7959 - val_loss: 0.0542 - val_acc: 0.7908\n",
      "Epoch 5/10\n",
      "16s - loss: 0.0530 - acc: 0.7956 - val_loss: 0.0527 - val_acc: 0.7947\n",
      "Epoch 6/10\n",
      "16s - loss: 0.0519 - acc: 0.7956 - val_loss: 0.0516 - val_acc: 0.7918\n",
      "Epoch 7/10\n",
      "16s - loss: 0.0512 - acc: 0.7957 - val_loss: 0.0521 - val_acc: 0.7858\n",
      "Epoch 8/10\n",
      "16s - loss: 0.0504 - acc: 0.7960 - val_loss: 0.0504 - val_acc: 0.7903\n",
      "Epoch 9/10\n",
      "16s - loss: 0.0499 - acc: 0.7962 - val_loss: 0.0497 - val_acc: 0.7928\n",
      "Epoch 10/10\n",
      "16s - loss: 0.0492 - acc: 0.7962 - val_loss: 0.0491 - val_acc: 0.7972\n"
     ]
    }
   ],
   "source": [
    "hist = model.fit(X_train, X_train,\n",
    "                epochs=10,\n",
    "                shuffle=True,\n",
    "                batch_size=100,\n",
    "                validation_data=(X_test, X_test),\n",
    "                verbose=2)"
   ]
  },
  {
   "cell_type": "code",
   "execution_count": 17,
   "metadata": {
    "collapsed": false
   },
   "outputs": [
    {
     "name": "stdout",
     "output_type": "stream",
     "text": [
      "(10, 28, 28, 1)\n"
     ]
    }
   ],
   "source": [
    "out = model.predict(X_train[:10])\n",
    "print out.shape"
   ]
  },
  {
   "cell_type": "code",
   "execution_count": 19,
   "metadata": {
    "collapsed": false
   },
   "outputs": [
    {
     "data": {
      "image/png": "[encoded data removed]",
      "text/plain": [
       "<matplotlib.figure.Figure at 0x7f2de6ae51d0>"
      ]
     },
     "metadata": {},
     "output_type": "display_data"
    },
    {
     "data": {
      "image/png": "[encoded data removed]",
      "text/plain": [
       "<matplotlib.figure.Figure at 0x7f2de6b22a90>"
      ]
     },
     "metadata": {},
     "output_type": "display_data"
    }
   ],
   "source": [
    "plt.figure(0)\n",
    "plt.imshow(X_train[8].reshape((28, 28)), cmap='gray')\n",
    "\n",
    "plt.figure(1)\n",
    "plt.imshow(out[8].reshape((28, 28)), cmap='gray')\n",
    "\n",
    "plt.show()"
   ]
  },
  {
   "cell_type": "code",
   "execution_count": 20,
   "metadata": {
    "collapsed": false
   },
   "outputs": [
    {
     "data": {
      "text/plain": [
       "[<keras.layers.convolutional.Conv2D at 0x7f2de768fdd0>,\n",
       " <keras.layers.core.Activation at 0x7f2de768fc50>,\n",
       " <keras.layers.convolutional.Conv2D at 0x7f2de76b31d0>,\n",
       " <keras.layers.pooling.MaxPooling2D at 0x7f2de76b3710>,\n",
       " <keras.layers.core.Activation at 0x7f2de7b07790>,\n",
       " <keras.layers.convolutional.Conv2D at 0x7f2de85c0cd0>,\n",
       " <keras.layers.core.Activation at 0x7f2de7641cd0>,\n",
       " <keras.layers.core.Flatten at 0x7f2de7656990>,\n",
       " <keras.layers.core.Dense at 0x7f2de76b36d0>,\n",
       " <keras.layers.core.Dense at 0x7f2de7664510>,\n",
       " <keras.layers.core.Activation at 0x7f2de7606ed0>,\n",
       " <keras.layers.core.Reshape at 0x7f2de7623690>,\n",
       " <keras.layers.convolutional.ZeroPadding2D at 0x7f2de7623c50>,\n",
       " <keras.layers.convolutional.Conv2D at 0x7f2de7606390>,\n",
       " <keras.layers.core.Activation at 0x7f2de7633750>,\n",
       " <keras.layers.convolutional.UpSampling2D at 0x7f2de75c3b10>,\n",
       " <keras.layers.convolutional.ZeroPadding2D at 0x7f2de75c3b90>,\n",
       " <keras.layers.convolutional.Conv2D at 0x7f2de75c3990>,\n",
       " <keras.layers.core.Activation at 0x7f2de75e9750>,\n",
       " <keras.layers.convolutional.ZeroPadding2D at 0x7f2de7592fd0>,\n",
       " <keras.layers.convolutional.Conv2D at 0x7f2de7592c90>,\n",
       " <keras.layers.core.Activation at 0x7f2de75fa810>]"
      ]
     },
     "execution_count": 20,
     "metadata": {},
     "output_type": "execute_result"
    }
   ],
   "source": [
    "model.layers"
   ]
  },
  {
   "cell_type": "code",
   "execution_count": 21,
   "metadata": {
    "collapsed": false
   },
   "outputs": [
    {
     "name": "stdout",
     "output_type": "stream",
     "text": [
      "_________________________________________________________________\n",
      "Layer (type)                 Output Shape              Param #   \n",
      "=================================================================\n",
      "conv2d_39_input (InputLayer) (None, 28, 28, 1)         0         \n",
      "_________________________________________________________________\n",
      "conv2d_39 (Conv2D)           (None, 26, 26, 32)        320       \n",
      "_________________________________________________________________\n",
      "activation_39 (Activation)   (None, 26, 26, 32)        0         \n",
      "_________________________________________________________________\n",
      "conv2d_40 (Conv2D)           (None, 24, 24, 16)        4624      \n",
      "_________________________________________________________________\n",
      "max_pooling2d_10 (MaxPooling (None, 12, 12, 16)        0         \n",
      "_________________________________________________________________\n",
      "activation_40 (Activation)   (None, 12, 12, 16)        0         \n",
      "_________________________________________________________________\n",
      "conv2d_41 (Conv2D)           (None, 8, 8, 8)           3208      \n",
      "_________________________________________________________________\n",
      "activation_41 (Activation)   (None, 8, 8, 8)           0         \n",
      "_________________________________________________________________\n",
      "flatten_10 (Flatten)         (None, 512)               0         \n",
      "_________________________________________________________________\n",
      "dense_17 (Dense)             (None, 2)                 1026      \n",
      "=================================================================\n",
      "Total params: 9,178.0\n",
      "Trainable params: 9,178.0\n",
      "Non-trainable params: 0.0\n",
      "_________________________________________________________________\n"
     ]
    }
   ],
   "source": [
    "m = Model(inputs=model.input, outputs=model.layers[8].output)\n",
    "m.summary()"
   ]
  }
 ],
 "metadata": {
  "kernelspec": {
   "display_name": "Python 2",
   "language": "python",
   "name": "python2"
  },
  "language_info": {
   "codemirror_mode": {
    "name": "ipython",
    "version": 2
   },
   "file_extension": ".py",
   "mimetype": "text/x-python",
   "name": "python",
   "nbconvert_exporter": "python",
   "pygments_lexer": "ipython2",
   "version": "2.7.12"
  }
 },
 "nbformat": 4,
 "nbformat_minor": 2
}
